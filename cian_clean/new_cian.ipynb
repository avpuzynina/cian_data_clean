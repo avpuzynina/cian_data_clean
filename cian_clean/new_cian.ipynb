{
 "cells": [
  {
   "cell_type": "code",
   "execution_count": 12,
   "metadata": {},
   "outputs": [],
   "source": [
    "import pandas as pd\n",
    "import numpy as np\n",
    "import seaborn as sns\n",
    "from sklearn.preprocessing import OneHotEncoder\n",
    "\n",
    "fr = pd.read_csv('cian.csv')\n",
    "fr = fr.set_index('Unnamed: 0')\n",
    "\n",
    "df = fr.copy()\n",
    "\n",
    "def code_mode(data, feature):\n",
    "    for i in data[feature].unique():\n",
    "        data[feature + '=' + i] = (data[feature] == i).astype(float)\n",
    "\n",
    "def make(data, c1, c2, c3):\n",
    "    data['adres_t'] = data[c1].astype(str) + ' ' + data[c2].astype(str) + ' ' + data[c3].astype(str)\n",
    "    return (data)\n",
    "\n",
    "def display_missing(df):    \n",
    "    for col in df.columns.tolist():          \n",
    "        print('{} Количество пропущенных значений: {}'.format(col, df[col].isnull().sum()))\n",
    "    print('\\n')"
   ]
  },
  {
   "cell_type": "code",
   "execution_count": 13,
   "metadata": {},
   "outputs": [
    {
     "name": "stdout",
     "output_type": "stream",
     "text": [
      "ID  объявления Количество пропущенных значений: 0\n",
      "Количество комнат Количество пропущенных значений: 1041\n",
      "Тип Количество пропущенных значений: 0\n",
      "Метро Количество пропущенных значений: 1315\n",
      "Адрес Количество пропущенных значений: 0\n",
      "Площадь, м2 Количество пропущенных значений: 0\n",
      "Дом Количество пропущенных значений: 0\n",
      "Парковка Количество пропущенных значений: 13417\n",
      "Цена Количество пропущенных значений: 0\n",
      "Телефоны Количество пропущенных значений: 0\n",
      "Описание Количество пропущенных значений: 0\n",
      "Ремонт Количество пропущенных значений: 2755\n",
      "Площадь комнат, м2 Количество пропущенных значений: 8910\n",
      "Балкон Количество пропущенных значений: 7978\n",
      "Окна Количество пропущенных значений: 6613\n",
      "Санузел Количество пропущенных значений: 2672\n",
      "Можно с детьми/животными Количество пропущенных значений: 6096\n",
      "Дополнительно Количество пропущенных значений: 357\n",
      "Название ЖК Количество пропущенных значений: 17520\n",
      "Серия дома Количество пропущенных значений: 21205\n",
      "Высота потолков, м Количество пропущенных значений: 12162\n",
      "Лифт Количество пропущенных значений: 5500\n",
      "Мусоропровод Количество пропущенных значений: 10522\n",
      "Ссылка на объявление Количество пропущенных значений: 0\n",
      "\n",
      "\n"
     ]
    }
   ],
   "source": [
    "display_missing(df)"
   ]
  },
  {
   "cell_type": "code",
   "execution_count": 14,
   "metadata": {},
   "outputs": [],
   "source": [
    "final = df.drop(['ID  объявления', 'Название ЖК', 'Ссылка на объявление', 'Санузел', 'Телефоны', 'Серия дома', 'Площадь комнат, м2'], axis=1)"
   ]
  },
  {
   "cell_type": "code",
   "execution_count": 15,
   "metadata": {},
   "outputs": [
    {
     "name": "stdout",
     "output_type": "stream",
     "text": [
      "Количество комнат Количество пропущенных значений: 1041\n",
      "Тип Количество пропущенных значений: 0\n",
      "Метро Количество пропущенных значений: 1315\n",
      "Адрес Количество пропущенных значений: 0\n",
      "Площадь, м2 Количество пропущенных значений: 0\n",
      "Дом Количество пропущенных значений: 0\n",
      "Парковка Количество пропущенных значений: 13417\n",
      "Цена Количество пропущенных значений: 0\n",
      "Описание Количество пропущенных значений: 0\n",
      "Ремонт Количество пропущенных значений: 2755\n",
      "Балкон Количество пропущенных значений: 7978\n",
      "Окна Количество пропущенных значений: 6613\n",
      "Можно с детьми/животными Количество пропущенных значений: 6096\n",
      "Дополнительно Количество пропущенных значений: 357\n",
      "Высота потолков, м Количество пропущенных значений: 12162\n",
      "Лифт Количество пропущенных значений: 5500\n",
      "Мусоропровод Количество пропущенных значений: 10522\n",
      "\n",
      "\n"
     ]
    }
   ],
   "source": [
    "display_missing(final)"
   ]
  },
  {
   "cell_type": "code",
   "execution_count": 22,
   "metadata": {},
   "outputs": [
    {
     "ename": "ValueError",
     "evalue": "The truth value of a Series is ambiguous. Use a.empty, a.bool(), a.item(), a.any() or a.all().",
     "output_type": "error",
     "traceback": [
      "\u001b[0;31m---------------------------------------------------------------------------\u001b[0m",
      "\u001b[0;31mValueError\u001b[0m                                Traceback (most recent call last)",
      "\u001b[1;32m/home/anna/Dataset/new_cian.ipynb Ячейка 5\u001b[0m in \u001b[0;36m<cell line: 1>\u001b[0;34m()\u001b[0m\n\u001b[0;32m----> <a href='vscode-notebook-cell:/home/anna/Dataset/new_cian.ipynb#W4sZmlsZQ%3D%3D?line=0'>1</a>\u001b[0m \u001b[39mif\u001b[39;00m final[final[\u001b[39m'\u001b[39m\u001b[39mАдрес\u001b[39m\u001b[39m'\u001b[39m]\u001b[39m.\u001b[39mstr\u001b[39m.\u001b[39mcontains(\u001b[39mr\u001b[39m\u001b[39m'\u001b[39m\u001b[39m\\\u001b[39m\u001b[39mbЗеленоград\u001b[39m\u001b[39m'\u001b[39m)][\u001b[39m'\u001b[39m\u001b[39mАдрес\u001b[39m\u001b[39m'\u001b[39m] \u001b[39m==\u001b[39m \u001b[39mTrue\u001b[39;00m:\n\u001b[1;32m      <a href='vscode-notebook-cell:/home/anna/Dataset/new_cian.ipynb#W4sZmlsZQ%3D%3D?line=1'>2</a>\u001b[0m     final[final[\u001b[39m'\u001b[39m\u001b[39mАдрес\u001b[39m\u001b[39m'\u001b[39m]\u001b[39m.\u001b[39mstr\u001b[39m.\u001b[39mcontains(\u001b[39mr\u001b[39m\u001b[39m'\u001b[39m\u001b[39m\\\u001b[39m\u001b[39mbЗеленоград\u001b[39m\u001b[39m'\u001b[39m)][\u001b[39m'\u001b[39m\u001b[39mАдрес\u001b[39m\u001b[39m'\u001b[39m]\u001b[39m.\u001b[39mreplace(\u001b[39m'\u001b[39m\u001b[39mМосква\u001b[39m\u001b[39m'\u001b[39m, \u001b[39m'\u001b[39m\u001b[39m'\u001b[39m)\n",
      "File \u001b[0;32m~/miniforge3/lib/python3.10/site-packages/pandas/core/generic.py:1527\u001b[0m, in \u001b[0;36mNDFrame.__nonzero__\u001b[0;34m(self)\u001b[0m\n\u001b[1;32m   1525\u001b[0m \u001b[39m@final\u001b[39m\n\u001b[1;32m   1526\u001b[0m \u001b[39mdef\u001b[39;00m \u001b[39m__nonzero__\u001b[39m(\u001b[39mself\u001b[39m):\n\u001b[0;32m-> 1527\u001b[0m     \u001b[39mraise\u001b[39;00m \u001b[39mValueError\u001b[39;00m(\n\u001b[1;32m   1528\u001b[0m         \u001b[39mf\u001b[39m\u001b[39m\"\u001b[39m\u001b[39mThe truth value of a \u001b[39m\u001b[39m{\u001b[39;00m\u001b[39mtype\u001b[39m(\u001b[39mself\u001b[39m)\u001b[39m.\u001b[39m\u001b[39m__name__\u001b[39m\u001b[39m}\u001b[39;00m\u001b[39m is ambiguous. \u001b[39m\u001b[39m\"\u001b[39m\n\u001b[1;32m   1529\u001b[0m         \u001b[39m\"\u001b[39m\u001b[39mUse a.empty, a.bool(), a.item(), a.any() or a.all().\u001b[39m\u001b[39m\"\u001b[39m\n\u001b[1;32m   1530\u001b[0m     )\n",
      "\u001b[0;31mValueError\u001b[0m: The truth value of a Series is ambiguous. Use a.empty, a.bool(), a.item(), a.any() or a.all()."
     ]
    }
   ],
   "source": [
    "if final[final['Адрес'].str.contains(r'\\bЗеленоград')]['Адрес'] == True:\n",
    "    final[final['Адрес'].str.contains(r'\\bЗеленоград')]['Адрес'].replace('Москва', '')"
   ]
  },
  {
   "cell_type": "code",
   "execution_count": 21,
   "metadata": {},
   "outputs": [
    {
     "data": {
      "text/plain": [
       "Unnamed: 0\n",
       "2565     Москва, Зеленоград, проспект Георгиевский, 33Ак4\n",
       "2566      Москва, Зеленоград, проспект Георгиевский, 37к1\n",
       "2567      Москва, Зеленоград, проспект Георгиевский, 37к3\n",
       "2568                            Москва, Зеленоград, к1504\n",
       "2569                            Москва, Зеленоград, к1645\n",
       "                              ...                        \n",
       "7230    Москва, Зеленоград, к241, ш. Ленинградское (21...\n",
       "7231    Москва, Зеленоград, Березовая аллея, 6, ш. Лен...\n",
       "7232    Москва, Зеленоград, к238, ш. Ленинградское (21...\n",
       "7233    Москва, Зеленоград, к130А, ш. Ленинградское (2...\n",
       "7234    Москва, Зеленоград, к1006, ш. Ленинградское (2...\n",
       "Name: Адрес, Length: 233, dtype: object"
      ]
     },
     "execution_count": 21,
     "metadata": {},
     "output_type": "execute_result"
    }
   ],
   "source": [
    "final[final['Адрес'].str.contains(r'\\bЗеленоград')]['Адрес']"
   ]
  },
  {
   "cell_type": "code",
   "execution_count": null,
   "metadata": {},
   "outputs": [],
   "source": []
  },
  {
   "cell_type": "code",
   "execution_count": null,
   "metadata": {},
   "outputs": [],
   "source": []
  },
  {
   "cell_type": "code",
   "execution_count": null,
   "metadata": {},
   "outputs": [],
   "source": []
  }
 ],
 "metadata": {
  "kernelspec": {
   "display_name": "Python 3.10.6 ('base')",
   "language": "python",
   "name": "python3"
  },
  "language_info": {
   "codemirror_mode": {
    "name": "ipython",
    "version": 3
   },
   "file_extension": ".py",
   "mimetype": "text/x-python",
   "name": "python",
   "nbconvert_exporter": "python",
   "pygments_lexer": "ipython3",
   "version": "3.10.6"
  },
  "orig_nbformat": 4,
  "vscode": {
   "interpreter": {
    "hash": "bfca86d64663c87fd015d58edd9b6d99d3f8995b0cc4d4a28572ff8429851956"
   }
  }
 },
 "nbformat": 4,
 "nbformat_minor": 2
}
